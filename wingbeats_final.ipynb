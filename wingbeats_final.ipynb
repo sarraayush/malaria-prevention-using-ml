{
  "cells": [
    {
      "cell_type": "code",
      "execution_count": null,
      "metadata": {
        "id": "ey3xgIEqw624"
      },
      "outputs": [],
      "source": [
        "!pip install kaggle  "
      ]
    },
    {
      "cell_type": "code",
      "execution_count": null,
      "metadata": {
        "id": "6BHf-DCQxBZM"
      },
      "outputs": [],
      "source": [
        "! mkdir ~/.kaggle"
      ]
    },
    {
      "cell_type": "code",
      "execution_count": null,
      "metadata": {
        "id": "Rya3FulgxFLp"
      },
      "outputs": [],
      "source": [
        "! cp kaggle.json ~/.kaggle/"
      ]
    },
    {
      "cell_type": "code",
      "execution_count": null,
      "metadata": {
        "id": "eGJy6BiyxJWe"
      },
      "outputs": [],
      "source": [
        "! chmod 600 ~/.kaggle/kaggle.json"
      ]
    },
    {
      "cell_type": "code",
      "execution_count": null,
      "metadata": {
        "id": "XcjfRHqQxcWp"
      },
      "outputs": [],
      "source": [
        "! kaggle datasets download potamitis/wingbeats"
      ]
    },
    {
      "cell_type": "code",
      "execution_count": null,
      "metadata": {
        "id": "kN1dTmsun_LY"
      },
      "outputs": [],
      "source": [
        "! unzip wingbeats.zip"
      ]
    },
    {
      "cell_type": "code",
      "source": [
        "rm -rf /content/Wingbeats/Wingbeats"
      ],
      "metadata": {
        "id": "r7BQ0OfP2FcZ"
      },
      "execution_count": null,
      "outputs": []
    },
    {
      "cell_type": "code",
      "source": [
        "from __future__ import division\n",
        "import os\n",
        "import pandas as pd\n",
        "import seaborn as sns\n",
        "import matplotlib.pyplot as plt\n",
        "import numpy as np\n",
        "\n",
        "from scipy import signal\n",
        "from sklearn.utils import shuffle\n",
        "from sklearn.model_selection import train_test_split\n",
        "from sklearn.metrics import accuracy_score\n",
        "\n",
        "import librosa\n",
        "import xgboost"
      ],
      "metadata": {
        "id": "3FtB8A5r1VyX"
      },
      "execution_count": null,
      "outputs": []
    },
    {
      "cell_type": "code",
      "source": [
        "target_names = ['Ae. aegypti', 'Ae. albopictus', 'An. gambiae', 'An. arabiensis', 'C. pipiens', 'C. quinquefasciatus']\n",
        "\n",
        "X = [] # will hold PSDs of the recs\n",
        "X_names = [] # will hold the full path and the filename of all recs\n",
        "y = [] # the labels\n",
        "target_count = []\n",
        "\n",
        "for i, target in enumerate(target_names):\n",
        "    target_count.append(0)\n",
        "    #path = './Wingbeats/' + target + '/'\n",
        "    path = '/content/Wingbeats/' + target + '/'\n",
        "    for [root, dirs, files] in os.walk(path, topdown = False):\n",
        "        for filename in files:\n",
        "            name,ext = os.path.splitext(filename)\n",
        "            if ext == '.wav':\n",
        "                name = os.path.join(root, filename)\n",
        "                data, fs = librosa.load(name, sr = 8000)\n",
        "                y.append(i)\n",
        "                X.append([10*np.log10(signal.welch(data, fs=fs, window='hanning', nperseg=256, noverlap=128+64)[1])])\n",
        "                X_names.append(name)\n",
        "                target_count[i]+=1\n"
      ],
      "metadata": {
        "id": "rLxOld2i1pf2"
      },
      "execution_count": null,
      "outputs": []
    },
    {
      "cell_type": "code",
      "source": [
        "print ('total #recs = ', len(y))"
      ],
      "metadata": {
        "id": "voG1VQmi2SJf"
      },
      "execution_count": null,
      "outputs": []
    },
    {
      "cell_type": "code",
      "source": [
        "names = pd.DataFrame(X_names, columns=['name'])"
      ],
      "metadata": {
        "id": "9BdWbjsV3evx"
      },
      "execution_count": null,
      "outputs": []
    },
    {
      "cell_type": "code",
      "source": [
        "names['name'][0]"
      ],
      "metadata": {
        "colab": {
          "base_uri": "https://localhost:8080/",
          "height": 36
        },
        "id": "QvrwRwSk37bj",
        "outputId": "f88be9b5-06f9-42e6-ca37-026363fe84ae"
      },
      "execution_count": null,
      "outputs": [
        {
          "output_type": "execute_result",
          "data": {
            "text/plain": [
              "'/content/Wingbeats/Ae. aegypti/D_17_02_08_11_00_29/F170208_110038_051_G_050.wav'"
            ],
            "application/vnd.google.colaboratory.intrinsic+json": {
              "type": "string"
            }
          },
          "metadata": {},
          "execution_count": 25
        }
      ]
    },
    {
      "cell_type": "code",
      "source": [
        "PSDs = pd.DataFrame(X, columns=['PSD'])"
      ],
      "metadata": {
        "id": "-yeslOEw3k0P"
      },
      "execution_count": null,
      "outputs": []
    },
    {
      "cell_type": "code",
      "source": [
        "PSDs['PSD'][0].shape"
      ],
      "metadata": {
        "colab": {
          "base_uri": "https://localhost:8080/"
        },
        "id": "HzYwDLQq3n_O",
        "outputId": "4e66ca10-48dc-4d48-fcb6-43b1489cd226"
      },
      "execution_count": null,
      "outputs": [
        {
          "output_type": "execute_result",
          "data": {
            "text/plain": [
              "(129,)"
            ]
          },
          "metadata": {},
          "execution_count": 22
        }
      ]
    },
    {
      "cell_type": "code",
      "source": [
        "df = pd.concat([names, PSDs], axis = 1)"
      ],
      "metadata": {
        "id": "pLItSVIx4Gxe"
      },
      "execution_count": null,
      "outputs": []
    },
    {
      "cell_type": "code",
      "source": [
        "df.head()"
      ],
      "metadata": {
        "colab": {
          "base_uri": "https://localhost:8080/",
          "height": 206
        },
        "id": "bMUfIMbO366n",
        "outputId": "2d82884d-7b7f-473d-97be-b3f16573ac59"
      },
      "execution_count": null,
      "outputs": [
        {
          "output_type": "execute_result",
          "data": {
            "text/plain": [
              "                                                name  \\\n",
              "0  /content/Wingbeats/Ae. aegypti/D_17_02_08_11_0...   \n",
              "1  /content/Wingbeats/Ae. aegypti/D_17_02_08_11_0...   \n",
              "2  /content/Wingbeats/Ae. aegypti/D_17_02_08_11_0...   \n",
              "3  /content/Wingbeats/Ae. aegypti/D_17_02_08_11_0...   \n",
              "4  /content/Wingbeats/Ae. aegypti/D_17_02_08_11_0...   \n",
              "\n",
              "                                                 PSD  \n",
              "0  [-85.99616, -77.721954, -82.98425, -87.13138, ...  \n",
              "1  [-81.04077, -72.61083, -81.521454, -92.88978, ...  \n",
              "2  [-93.116, -83.8792, -92.783035, -96.71205, -99...  \n",
              "3  [-89.47472, -77.541374, -87.73845, -95.40252, ...  \n",
              "4  [-80.26874, -70.14137, -80.56443, -92.83192, -...  "
            ],
            "text/html": [
              "\n",
              "  <div id=\"df-18ab2c92-2310-46c2-94a1-43533b12a9ec\">\n",
              "    <div class=\"colab-df-container\">\n",
              "      <div>\n",
              "<style scoped>\n",
              "    .dataframe tbody tr th:only-of-type {\n",
              "        vertical-align: middle;\n",
              "    }\n",
              "\n",
              "    .dataframe tbody tr th {\n",
              "        vertical-align: top;\n",
              "    }\n",
              "\n",
              "    .dataframe thead th {\n",
              "        text-align: right;\n",
              "    }\n",
              "</style>\n",
              "<table border=\"1\" class=\"dataframe\">\n",
              "  <thead>\n",
              "    <tr style=\"text-align: right;\">\n",
              "      <th></th>\n",
              "      <th>name</th>\n",
              "      <th>PSD</th>\n",
              "    </tr>\n",
              "  </thead>\n",
              "  <tbody>\n",
              "    <tr>\n",
              "      <th>0</th>\n",
              "      <td>/content/Wingbeats/Ae. aegypti/D_17_02_08_11_0...</td>\n",
              "      <td>[-85.99616, -77.721954, -82.98425, -87.13138, ...</td>\n",
              "    </tr>\n",
              "    <tr>\n",
              "      <th>1</th>\n",
              "      <td>/content/Wingbeats/Ae. aegypti/D_17_02_08_11_0...</td>\n",
              "      <td>[-81.04077, -72.61083, -81.521454, -92.88978, ...</td>\n",
              "    </tr>\n",
              "    <tr>\n",
              "      <th>2</th>\n",
              "      <td>/content/Wingbeats/Ae. aegypti/D_17_02_08_11_0...</td>\n",
              "      <td>[-93.116, -83.8792, -92.783035, -96.71205, -99...</td>\n",
              "    </tr>\n",
              "    <tr>\n",
              "      <th>3</th>\n",
              "      <td>/content/Wingbeats/Ae. aegypti/D_17_02_08_11_0...</td>\n",
              "      <td>[-89.47472, -77.541374, -87.73845, -95.40252, ...</td>\n",
              "    </tr>\n",
              "    <tr>\n",
              "      <th>4</th>\n",
              "      <td>/content/Wingbeats/Ae. aegypti/D_17_02_08_11_0...</td>\n",
              "      <td>[-80.26874, -70.14137, -80.56443, -92.83192, -...</td>\n",
              "    </tr>\n",
              "  </tbody>\n",
              "</table>\n",
              "</div>\n",
              "      <button class=\"colab-df-convert\" onclick=\"convertToInteractive('df-18ab2c92-2310-46c2-94a1-43533b12a9ec')\"\n",
              "              title=\"Convert this dataframe to an interactive table.\"\n",
              "              style=\"display:none;\">\n",
              "        \n",
              "  <svg xmlns=\"http://www.w3.org/2000/svg\" height=\"24px\"viewBox=\"0 0 24 24\"\n",
              "       width=\"24px\">\n",
              "    <path d=\"M0 0h24v24H0V0z\" fill=\"none\"/>\n",
              "    <path d=\"M18.56 5.44l.94 2.06.94-2.06 2.06-.94-2.06-.94-.94-2.06-.94 2.06-2.06.94zm-11 1L8.5 8.5l.94-2.06 2.06-.94-2.06-.94L8.5 2.5l-.94 2.06-2.06.94zm10 10l.94 2.06.94-2.06 2.06-.94-2.06-.94-.94-2.06-.94 2.06-2.06.94z\"/><path d=\"M17.41 7.96l-1.37-1.37c-.4-.4-.92-.59-1.43-.59-.52 0-1.04.2-1.43.59L10.3 9.45l-7.72 7.72c-.78.78-.78 2.05 0 2.83L4 21.41c.39.39.9.59 1.41.59.51 0 1.02-.2 1.41-.59l7.78-7.78 2.81-2.81c.8-.78.8-2.07 0-2.86zM5.41 20L4 18.59l7.72-7.72 1.47 1.35L5.41 20z\"/>\n",
              "  </svg>\n",
              "      </button>\n",
              "      \n",
              "  <style>\n",
              "    .colab-df-container {\n",
              "      display:flex;\n",
              "      flex-wrap:wrap;\n",
              "      gap: 12px;\n",
              "    }\n",
              "\n",
              "    .colab-df-convert {\n",
              "      background-color: #E8F0FE;\n",
              "      border: none;\n",
              "      border-radius: 50%;\n",
              "      cursor: pointer;\n",
              "      display: none;\n",
              "      fill: #1967D2;\n",
              "      height: 32px;\n",
              "      padding: 0 0 0 0;\n",
              "      width: 32px;\n",
              "    }\n",
              "\n",
              "    .colab-df-convert:hover {\n",
              "      background-color: #E2EBFA;\n",
              "      box-shadow: 0px 1px 2px rgba(60, 64, 67, 0.3), 0px 1px 3px 1px rgba(60, 64, 67, 0.15);\n",
              "      fill: #174EA6;\n",
              "    }\n",
              "\n",
              "    [theme=dark] .colab-df-convert {\n",
              "      background-color: #3B4455;\n",
              "      fill: #D2E3FC;\n",
              "    }\n",
              "\n",
              "    [theme=dark] .colab-df-convert:hover {\n",
              "      background-color: #434B5C;\n",
              "      box-shadow: 0px 1px 3px 1px rgba(0, 0, 0, 0.15);\n",
              "      filter: drop-shadow(0px 1px 2px rgba(0, 0, 0, 0.3));\n",
              "      fill: #FFFFFF;\n",
              "    }\n",
              "  </style>\n",
              "\n",
              "      <script>\n",
              "        const buttonEl =\n",
              "          document.querySelector('#df-18ab2c92-2310-46c2-94a1-43533b12a9ec button.colab-df-convert');\n",
              "        buttonEl.style.display =\n",
              "          google.colab.kernel.accessAllowed ? 'block' : 'none';\n",
              "\n",
              "        async function convertToInteractive(key) {\n",
              "          const element = document.querySelector('#df-18ab2c92-2310-46c2-94a1-43533b12a9ec');\n",
              "          const dataTable =\n",
              "            await google.colab.kernel.invokeFunction('convertToInteractive',\n",
              "                                                     [key], {});\n",
              "          if (!dataTable) return;\n",
              "\n",
              "          const docLinkHtml = 'Like what you see? Visit the ' +\n",
              "            '<a target=\"_blank\" href=https://colab.research.google.com/notebooks/data_table.ipynb>data table notebook</a>'\n",
              "            + ' to learn more about interactive tables.';\n",
              "          element.innerHTML = '';\n",
              "          dataTable['output_type'] = 'display_data';\n",
              "          await google.colab.output.renderOutput(dataTable, element);\n",
              "          const docLink = document.createElement('div');\n",
              "          docLink.innerHTML = docLinkHtml;\n",
              "          element.appendChild(docLink);\n",
              "        }\n",
              "      </script>\n",
              "    </div>\n",
              "  </div>\n",
              "  "
            ]
          },
          "metadata": {},
          "execution_count": 27
        }
      ]
    },
    {
      "cell_type": "code",
      "source": [
        "df['filename'] = df['name'].str.extract('([F]\\w{0,})',expand=True)"
      ],
      "metadata": {
        "id": "FQmOKVIo3qY2"
      },
      "execution_count": null,
      "outputs": []
    },
    {
      "cell_type": "code",
      "source": [
        "df.head()"
      ],
      "metadata": {
        "colab": {
          "base_uri": "https://localhost:8080/",
          "height": 206
        },
        "id": "XVC-WI624cIr",
        "outputId": "05697294-2ed7-4fb4-e74f-8359fc5f2148"
      },
      "execution_count": null,
      "outputs": [
        {
          "output_type": "execute_result",
          "data": {
            "text/plain": [
              "                                                name  \\\n",
              "0  /content/Wingbeats/Ae. aegypti/D_17_02_08_11_0...   \n",
              "1  /content/Wingbeats/Ae. aegypti/D_17_02_08_11_0...   \n",
              "2  /content/Wingbeats/Ae. aegypti/D_17_02_08_11_0...   \n",
              "3  /content/Wingbeats/Ae. aegypti/D_17_02_08_11_0...   \n",
              "4  /content/Wingbeats/Ae. aegypti/D_17_02_08_11_0...   \n",
              "\n",
              "                                                 PSD                  filename  \n",
              "0  [-85.99616, -77.721954, -82.98425, -87.13138, ...  F170208_110038_051_G_050  \n",
              "1  [-81.04077, -72.61083, -81.521454, -92.88978, ...  F170208_110029_049_G_050  \n",
              "2  [-93.116, -83.8792, -92.783035, -96.71205, -99...  F170208_110037_050_G_050  \n",
              "3  [-89.47472, -77.541374, -87.73845, -95.40252, ...  F170208_110028_048_G_050  \n",
              "4  [-80.26874, -70.14137, -80.56443, -92.83192, -...  F170208_110104_053_G_050  "
            ],
            "text/html": [
              "\n",
              "  <div id=\"df-ebe51c5b-d0c7-47c7-9f79-755179599325\">\n",
              "    <div class=\"colab-df-container\">\n",
              "      <div>\n",
              "<style scoped>\n",
              "    .dataframe tbody tr th:only-of-type {\n",
              "        vertical-align: middle;\n",
              "    }\n",
              "\n",
              "    .dataframe tbody tr th {\n",
              "        vertical-align: top;\n",
              "    }\n",
              "\n",
              "    .dataframe thead th {\n",
              "        text-align: right;\n",
              "    }\n",
              "</style>\n",
              "<table border=\"1\" class=\"dataframe\">\n",
              "  <thead>\n",
              "    <tr style=\"text-align: right;\">\n",
              "      <th></th>\n",
              "      <th>name</th>\n",
              "      <th>PSD</th>\n",
              "      <th>filename</th>\n",
              "    </tr>\n",
              "  </thead>\n",
              "  <tbody>\n",
              "    <tr>\n",
              "      <th>0</th>\n",
              "      <td>/content/Wingbeats/Ae. aegypti/D_17_02_08_11_0...</td>\n",
              "      <td>[-85.99616, -77.721954, -82.98425, -87.13138, ...</td>\n",
              "      <td>F170208_110038_051_G_050</td>\n",
              "    </tr>\n",
              "    <tr>\n",
              "      <th>1</th>\n",
              "      <td>/content/Wingbeats/Ae. aegypti/D_17_02_08_11_0...</td>\n",
              "      <td>[-81.04077, -72.61083, -81.521454, -92.88978, ...</td>\n",
              "      <td>F170208_110029_049_G_050</td>\n",
              "    </tr>\n",
              "    <tr>\n",
              "      <th>2</th>\n",
              "      <td>/content/Wingbeats/Ae. aegypti/D_17_02_08_11_0...</td>\n",
              "      <td>[-93.116, -83.8792, -92.783035, -96.71205, -99...</td>\n",
              "      <td>F170208_110037_050_G_050</td>\n",
              "    </tr>\n",
              "    <tr>\n",
              "      <th>3</th>\n",
              "      <td>/content/Wingbeats/Ae. aegypti/D_17_02_08_11_0...</td>\n",
              "      <td>[-89.47472, -77.541374, -87.73845, -95.40252, ...</td>\n",
              "      <td>F170208_110028_048_G_050</td>\n",
              "    </tr>\n",
              "    <tr>\n",
              "      <th>4</th>\n",
              "      <td>/content/Wingbeats/Ae. aegypti/D_17_02_08_11_0...</td>\n",
              "      <td>[-80.26874, -70.14137, -80.56443, -92.83192, -...</td>\n",
              "      <td>F170208_110104_053_G_050</td>\n",
              "    </tr>\n",
              "  </tbody>\n",
              "</table>\n",
              "</div>\n",
              "      <button class=\"colab-df-convert\" onclick=\"convertToInteractive('df-ebe51c5b-d0c7-47c7-9f79-755179599325')\"\n",
              "              title=\"Convert this dataframe to an interactive table.\"\n",
              "              style=\"display:none;\">\n",
              "        \n",
              "  <svg xmlns=\"http://www.w3.org/2000/svg\" height=\"24px\"viewBox=\"0 0 24 24\"\n",
              "       width=\"24px\">\n",
              "    <path d=\"M0 0h24v24H0V0z\" fill=\"none\"/>\n",
              "    <path d=\"M18.56 5.44l.94 2.06.94-2.06 2.06-.94-2.06-.94-.94-2.06-.94 2.06-2.06.94zm-11 1L8.5 8.5l.94-2.06 2.06-.94-2.06-.94L8.5 2.5l-.94 2.06-2.06.94zm10 10l.94 2.06.94-2.06 2.06-.94-2.06-.94-.94-2.06-.94 2.06-2.06.94z\"/><path d=\"M17.41 7.96l-1.37-1.37c-.4-.4-.92-.59-1.43-.59-.52 0-1.04.2-1.43.59L10.3 9.45l-7.72 7.72c-.78.78-.78 2.05 0 2.83L4 21.41c.39.39.9.59 1.41.59.51 0 1.02-.2 1.41-.59l7.78-7.78 2.81-2.81c.8-.78.8-2.07 0-2.86zM5.41 20L4 18.59l7.72-7.72 1.47 1.35L5.41 20z\"/>\n",
              "  </svg>\n",
              "      </button>\n",
              "      \n",
              "  <style>\n",
              "    .colab-df-container {\n",
              "      display:flex;\n",
              "      flex-wrap:wrap;\n",
              "      gap: 12px;\n",
              "    }\n",
              "\n",
              "    .colab-df-convert {\n",
              "      background-color: #E8F0FE;\n",
              "      border: none;\n",
              "      border-radius: 50%;\n",
              "      cursor: pointer;\n",
              "      display: none;\n",
              "      fill: #1967D2;\n",
              "      height: 32px;\n",
              "      padding: 0 0 0 0;\n",
              "      width: 32px;\n",
              "    }\n",
              "\n",
              "    .colab-df-convert:hover {\n",
              "      background-color: #E2EBFA;\n",
              "      box-shadow: 0px 1px 2px rgba(60, 64, 67, 0.3), 0px 1px 3px 1px rgba(60, 64, 67, 0.15);\n",
              "      fill: #174EA6;\n",
              "    }\n",
              "\n",
              "    [theme=dark] .colab-df-convert {\n",
              "      background-color: #3B4455;\n",
              "      fill: #D2E3FC;\n",
              "    }\n",
              "\n",
              "    [theme=dark] .colab-df-convert:hover {\n",
              "      background-color: #434B5C;\n",
              "      box-shadow: 0px 1px 3px 1px rgba(0, 0, 0, 0.15);\n",
              "      filter: drop-shadow(0px 1px 2px rgba(0, 0, 0, 0.3));\n",
              "      fill: #FFFFFF;\n",
              "    }\n",
              "  </style>\n",
              "\n",
              "      <script>\n",
              "        const buttonEl =\n",
              "          document.querySelector('#df-ebe51c5b-d0c7-47c7-9f79-755179599325 button.colab-df-convert');\n",
              "        buttonEl.style.display =\n",
              "          google.colab.kernel.accessAllowed ? 'block' : 'none';\n",
              "\n",
              "        async function convertToInteractive(key) {\n",
              "          const element = document.querySelector('#df-ebe51c5b-d0c7-47c7-9f79-755179599325');\n",
              "          const dataTable =\n",
              "            await google.colab.kernel.invokeFunction('convertToInteractive',\n",
              "                                                     [key], {});\n",
              "          if (!dataTable) return;\n",
              "\n",
              "          const docLinkHtml = 'Like what you see? Visit the ' +\n",
              "            '<a target=\"_blank\" href=https://colab.research.google.com/notebooks/data_table.ipynb>data table notebook</a>'\n",
              "            + ' to learn more about interactive tables.';\n",
              "          element.innerHTML = '';\n",
              "          dataTable['output_type'] = 'display_data';\n",
              "          await google.colab.output.renderOutput(dataTable, element);\n",
              "          const docLink = document.createElement('div');\n",
              "          docLink.innerHTML = docLinkHtml;\n",
              "          element.appendChild(docLink);\n",
              "        }\n",
              "      </script>\n",
              "    </div>\n",
              "  </div>\n",
              "  "
            ]
          },
          "metadata": {},
          "execution_count": 29
        }
      ]
    },
    {
      "cell_type": "code",
      "source": [
        "print(df['filename'][0])\n",
        "print(df['name'][0])"
      ],
      "metadata": {
        "colab": {
          "base_uri": "https://localhost:8080/"
        },
        "id": "BMxXmwoZ4hPD",
        "outputId": "474827cd-7e4d-4654-d5e9-ad7fa737b810"
      },
      "execution_count": null,
      "outputs": [
        {
          "output_type": "stream",
          "name": "stdout",
          "text": [
            "F170208_110038_051_G_050\n",
            "/content/Wingbeats/Ae. aegypti/D_17_02_08_11_00_29/F170208_110038_051_G_050.wav\n"
          ]
        }
      ]
    },
    {
      "cell_type": "code",
      "source": [
        "df['species'] = df['name'].str.split('/').str.get(3)"
      ],
      "metadata": {
        "id": "uPdLVK4l4vyh"
      },
      "execution_count": null,
      "outputs": []
    },
    {
      "cell_type": "code",
      "source": [
        "len(df['species'].unique())"
      ],
      "metadata": {
        "colab": {
          "base_uri": "https://localhost:8080/"
        },
        "id": "qvjKukls43g9",
        "outputId": "2205d933-0695-4adc-dcde-bc52180fa0a1"
      },
      "execution_count": null,
      "outputs": [
        {
          "output_type": "execute_result",
          "data": {
            "text/plain": [
              "6"
            ]
          },
          "metadata": {},
          "execution_count": 57
        }
      ]
    },
    {
      "cell_type": "code",
      "source": [
        "df['hour'] = df.filename.str.extract('([_]\\w{0,2})',expand=True)"
      ],
      "metadata": {
        "id": "14DYhDA-48XI"
      },
      "execution_count": null,
      "outputs": []
    },
    {
      "cell_type": "code",
      "source": [
        "df['hour']"
      ],
      "metadata": {
        "colab": {
          "base_uri": "https://localhost:8080/"
        },
        "id": "qmkpWFX85Mjk",
        "outputId": "66015c7d-68a4-4607-b3dd-2401ca096a34"
      },
      "execution_count": null,
      "outputs": [
        {
          "output_type": "execute_result",
          "data": {
            "text/plain": [
              "0         _11\n",
              "1         _11\n",
              "2         _11\n",
              "3         _11\n",
              "4         _11\n",
              "         ... \n",
              "279561    _20\n",
              "279562    _20\n",
              "279563    _20\n",
              "279564    _20\n",
              "279565    _20\n",
              "Name: hour, Length: 279566, dtype: object"
            ]
          },
          "metadata": {},
          "execution_count": 59
        }
      ]
    },
    {
      "cell_type": "code",
      "source": [
        "df['hour'][0]"
      ],
      "metadata": {
        "colab": {
          "base_uri": "https://localhost:8080/",
          "height": 36
        },
        "id": "nqHKSqP05CT9",
        "outputId": "66201b4c-a163-4815-f67c-87517c5815ca"
      },
      "execution_count": null,
      "outputs": [
        {
          "output_type": "execute_result",
          "data": {
            "text/plain": [
              "'_11'"
            ],
            "application/vnd.google.colaboratory.intrinsic+json": {
              "type": "string"
            }
          },
          "metadata": {},
          "execution_count": 60
        }
      ]
    },
    {
      "cell_type": "code",
      "source": [
        "df['hour'] = df.hour.str.split('_',expand=True)[1].astype(int)"
      ],
      "metadata": {
        "id": "F_n8U6qA5QtV"
      },
      "execution_count": null,
      "outputs": []
    },
    {
      "cell_type": "code",
      "source": [
        "df['hour']"
      ],
      "metadata": {
        "colab": {
          "base_uri": "https://localhost:8080/"
        },
        "id": "K0RN7VnV5VQA",
        "outputId": "25d22fbe-a5e9-4bc4-b0ca-e82d362181b7"
      },
      "execution_count": null,
      "outputs": [
        {
          "output_type": "execute_result",
          "data": {
            "text/plain": [
              "0         11\n",
              "1         11\n",
              "2         11\n",
              "3         11\n",
              "4         11\n",
              "          ..\n",
              "279561    20\n",
              "279562    20\n",
              "279563    20\n",
              "279564    20\n",
              "279565    20\n",
              "Name: hour, Length: 279566, dtype: int64"
            ]
          },
          "metadata": {},
          "execution_count": 62
        }
      ]
    },
    {
      "cell_type": "code",
      "source": [
        "df"
      ],
      "metadata": {
        "colab": {
          "base_uri": "https://localhost:8080/",
          "height": 467
        },
        "id": "pxyryMXT5Xzd",
        "outputId": "bbc65859-70d9-4ce7-f527-f216a32e2d2d"
      },
      "execution_count": null,
      "outputs": [
        {
          "output_type": "execute_result",
          "data": {
            "text/plain": [
              "                                                     name  \\\n",
              "0       /content/Wingbeats/Ae. aegypti/D_17_02_08_11_0...   \n",
              "1       /content/Wingbeats/Ae. aegypti/D_17_02_08_11_0...   \n",
              "2       /content/Wingbeats/Ae. aegypti/D_17_02_08_11_0...   \n",
              "3       /content/Wingbeats/Ae. aegypti/D_17_02_08_11_0...   \n",
              "4       /content/Wingbeats/Ae. aegypti/D_17_02_08_11_0...   \n",
              "...                                                   ...   \n",
              "279561  /content/Wingbeats/C. quinquefasciatus/D_16_12...   \n",
              "279562  /content/Wingbeats/C. quinquefasciatus/D_16_12...   \n",
              "279563  /content/Wingbeats/C. quinquefasciatus/D_16_12...   \n",
              "279564  /content/Wingbeats/C. quinquefasciatus/D_16_12...   \n",
              "279565  /content/Wingbeats/C. quinquefasciatus/D_16_12...   \n",
              "\n",
              "                                                      PSD  \\\n",
              "0       [-85.99616, -77.721954, -82.98425, -87.13138, ...   \n",
              "1       [-81.04077, -72.61083, -81.521454, -92.88978, ...   \n",
              "2       [-93.116, -83.8792, -92.783035, -96.71205, -99...   \n",
              "3       [-89.47472, -77.541374, -87.73845, -95.40252, ...   \n",
              "4       [-80.26874, -70.14137, -80.56443, -92.83192, -...   \n",
              "...                                                   ...   \n",
              "279561  [-83.49184, -75.00504, -83.56732, -93.93991, -...   \n",
              "279562  [-82.03912, -73.341354, -78.41115, -83.51567, ...   \n",
              "279563  [-87.51643, -78.559044, -81.81012, -84.3884, -...   \n",
              "279564  [-75.800156, -67.49843, -75.84076, -82.94593, ...   \n",
              "279565  [-77.98013, -70.31748, -76.62838, -82.78821, -...   \n",
              "\n",
              "                        filename              species  hour  \n",
              "0       F170208_110038_051_G_050          Ae. aegypti    11  \n",
              "1       F170208_110029_049_G_050          Ae. aegypti    11  \n",
              "2       F170208_110037_050_G_050          Ae. aegypti    11  \n",
              "3       F170208_110028_048_G_050          Ae. aegypti    11  \n",
              "4       F170208_110104_053_G_050          Ae. aegypti    11  \n",
              "...                          ...                  ...   ...  \n",
              "279561  F161219_201055_182_G_050  C. quinquefasciatus    20  \n",
              "279562  F161219_201025_155_G_050  C. quinquefasciatus    20  \n",
              "279563  F161219_201209_235_G_050  C. quinquefasciatus    20  \n",
              "279564  F161219_201042_173_G_050  C. quinquefasciatus    20  \n",
              "279565  F161219_201114_195_G_050  C. quinquefasciatus    20  \n",
              "\n",
              "[279566 rows x 5 columns]"
            ],
            "text/html": [
              "\n",
              "  <div id=\"df-3ef4cd39-80c1-4ef7-a794-c3135d7ba4ee\">\n",
              "    <div class=\"colab-df-container\">\n",
              "      <div>\n",
              "<style scoped>\n",
              "    .dataframe tbody tr th:only-of-type {\n",
              "        vertical-align: middle;\n",
              "    }\n",
              "\n",
              "    .dataframe tbody tr th {\n",
              "        vertical-align: top;\n",
              "    }\n",
              "\n",
              "    .dataframe thead th {\n",
              "        text-align: right;\n",
              "    }\n",
              "</style>\n",
              "<table border=\"1\" class=\"dataframe\">\n",
              "  <thead>\n",
              "    <tr style=\"text-align: right;\">\n",
              "      <th></th>\n",
              "      <th>name</th>\n",
              "      <th>PSD</th>\n",
              "      <th>filename</th>\n",
              "      <th>species</th>\n",
              "      <th>hour</th>\n",
              "    </tr>\n",
              "  </thead>\n",
              "  <tbody>\n",
              "    <tr>\n",
              "      <th>0</th>\n",
              "      <td>/content/Wingbeats/Ae. aegypti/D_17_02_08_11_0...</td>\n",
              "      <td>[-85.99616, -77.721954, -82.98425, -87.13138, ...</td>\n",
              "      <td>F170208_110038_051_G_050</td>\n",
              "      <td>Ae. aegypti</td>\n",
              "      <td>11</td>\n",
              "    </tr>\n",
              "    <tr>\n",
              "      <th>1</th>\n",
              "      <td>/content/Wingbeats/Ae. aegypti/D_17_02_08_11_0...</td>\n",
              "      <td>[-81.04077, -72.61083, -81.521454, -92.88978, ...</td>\n",
              "      <td>F170208_110029_049_G_050</td>\n",
              "      <td>Ae. aegypti</td>\n",
              "      <td>11</td>\n",
              "    </tr>\n",
              "    <tr>\n",
              "      <th>2</th>\n",
              "      <td>/content/Wingbeats/Ae. aegypti/D_17_02_08_11_0...</td>\n",
              "      <td>[-93.116, -83.8792, -92.783035, -96.71205, -99...</td>\n",
              "      <td>F170208_110037_050_G_050</td>\n",
              "      <td>Ae. aegypti</td>\n",
              "      <td>11</td>\n",
              "    </tr>\n",
              "    <tr>\n",
              "      <th>3</th>\n",
              "      <td>/content/Wingbeats/Ae. aegypti/D_17_02_08_11_0...</td>\n",
              "      <td>[-89.47472, -77.541374, -87.73845, -95.40252, ...</td>\n",
              "      <td>F170208_110028_048_G_050</td>\n",
              "      <td>Ae. aegypti</td>\n",
              "      <td>11</td>\n",
              "    </tr>\n",
              "    <tr>\n",
              "      <th>4</th>\n",
              "      <td>/content/Wingbeats/Ae. aegypti/D_17_02_08_11_0...</td>\n",
              "      <td>[-80.26874, -70.14137, -80.56443, -92.83192, -...</td>\n",
              "      <td>F170208_110104_053_G_050</td>\n",
              "      <td>Ae. aegypti</td>\n",
              "      <td>11</td>\n",
              "    </tr>\n",
              "    <tr>\n",
              "      <th>...</th>\n",
              "      <td>...</td>\n",
              "      <td>...</td>\n",
              "      <td>...</td>\n",
              "      <td>...</td>\n",
              "      <td>...</td>\n",
              "    </tr>\n",
              "    <tr>\n",
              "      <th>279561</th>\n",
              "      <td>/content/Wingbeats/C. quinquefasciatus/D_16_12...</td>\n",
              "      <td>[-83.49184, -75.00504, -83.56732, -93.93991, -...</td>\n",
              "      <td>F161219_201055_182_G_050</td>\n",
              "      <td>C. quinquefasciatus</td>\n",
              "      <td>20</td>\n",
              "    </tr>\n",
              "    <tr>\n",
              "      <th>279562</th>\n",
              "      <td>/content/Wingbeats/C. quinquefasciatus/D_16_12...</td>\n",
              "      <td>[-82.03912, -73.341354, -78.41115, -83.51567, ...</td>\n",
              "      <td>F161219_201025_155_G_050</td>\n",
              "      <td>C. quinquefasciatus</td>\n",
              "      <td>20</td>\n",
              "    </tr>\n",
              "    <tr>\n",
              "      <th>279563</th>\n",
              "      <td>/content/Wingbeats/C. quinquefasciatus/D_16_12...</td>\n",
              "      <td>[-87.51643, -78.559044, -81.81012, -84.3884, -...</td>\n",
              "      <td>F161219_201209_235_G_050</td>\n",
              "      <td>C. quinquefasciatus</td>\n",
              "      <td>20</td>\n",
              "    </tr>\n",
              "    <tr>\n",
              "      <th>279564</th>\n",
              "      <td>/content/Wingbeats/C. quinquefasciatus/D_16_12...</td>\n",
              "      <td>[-75.800156, -67.49843, -75.84076, -82.94593, ...</td>\n",
              "      <td>F161219_201042_173_G_050</td>\n",
              "      <td>C. quinquefasciatus</td>\n",
              "      <td>20</td>\n",
              "    </tr>\n",
              "    <tr>\n",
              "      <th>279565</th>\n",
              "      <td>/content/Wingbeats/C. quinquefasciatus/D_16_12...</td>\n",
              "      <td>[-77.98013, -70.31748, -76.62838, -82.78821, -...</td>\n",
              "      <td>F161219_201114_195_G_050</td>\n",
              "      <td>C. quinquefasciatus</td>\n",
              "      <td>20</td>\n",
              "    </tr>\n",
              "  </tbody>\n",
              "</table>\n",
              "<p>279566 rows × 5 columns</p>\n",
              "</div>\n",
              "      <button class=\"colab-df-convert\" onclick=\"convertToInteractive('df-3ef4cd39-80c1-4ef7-a794-c3135d7ba4ee')\"\n",
              "              title=\"Convert this dataframe to an interactive table.\"\n",
              "              style=\"display:none;\">\n",
              "        \n",
              "  <svg xmlns=\"http://www.w3.org/2000/svg\" height=\"24px\"viewBox=\"0 0 24 24\"\n",
              "       width=\"24px\">\n",
              "    <path d=\"M0 0h24v24H0V0z\" fill=\"none\"/>\n",
              "    <path d=\"M18.56 5.44l.94 2.06.94-2.06 2.06-.94-2.06-.94-.94-2.06-.94 2.06-2.06.94zm-11 1L8.5 8.5l.94-2.06 2.06-.94-2.06-.94L8.5 2.5l-.94 2.06-2.06.94zm10 10l.94 2.06.94-2.06 2.06-.94-2.06-.94-.94-2.06-.94 2.06-2.06.94z\"/><path d=\"M17.41 7.96l-1.37-1.37c-.4-.4-.92-.59-1.43-.59-.52 0-1.04.2-1.43.59L10.3 9.45l-7.72 7.72c-.78.78-.78 2.05 0 2.83L4 21.41c.39.39.9.59 1.41.59.51 0 1.02-.2 1.41-.59l7.78-7.78 2.81-2.81c.8-.78.8-2.07 0-2.86zM5.41 20L4 18.59l7.72-7.72 1.47 1.35L5.41 20z\"/>\n",
              "  </svg>\n",
              "      </button>\n",
              "      \n",
              "  <style>\n",
              "    .colab-df-container {\n",
              "      display:flex;\n",
              "      flex-wrap:wrap;\n",
              "      gap: 12px;\n",
              "    }\n",
              "\n",
              "    .colab-df-convert {\n",
              "      background-color: #E8F0FE;\n",
              "      border: none;\n",
              "      border-radius: 50%;\n",
              "      cursor: pointer;\n",
              "      display: none;\n",
              "      fill: #1967D2;\n",
              "      height: 32px;\n",
              "      padding: 0 0 0 0;\n",
              "      width: 32px;\n",
              "    }\n",
              "\n",
              "    .colab-df-convert:hover {\n",
              "      background-color: #E2EBFA;\n",
              "      box-shadow: 0px 1px 2px rgba(60, 64, 67, 0.3), 0px 1px 3px 1px rgba(60, 64, 67, 0.15);\n",
              "      fill: #174EA6;\n",
              "    }\n",
              "\n",
              "    [theme=dark] .colab-df-convert {\n",
              "      background-color: #3B4455;\n",
              "      fill: #D2E3FC;\n",
              "    }\n",
              "\n",
              "    [theme=dark] .colab-df-convert:hover {\n",
              "      background-color: #434B5C;\n",
              "      box-shadow: 0px 1px 3px 1px rgba(0, 0, 0, 0.15);\n",
              "      filter: drop-shadow(0px 1px 2px rgba(0, 0, 0, 0.3));\n",
              "      fill: #FFFFFF;\n",
              "    }\n",
              "  </style>\n",
              "\n",
              "      <script>\n",
              "        const buttonEl =\n",
              "          document.querySelector('#df-3ef4cd39-80c1-4ef7-a794-c3135d7ba4ee button.colab-df-convert');\n",
              "        buttonEl.style.display =\n",
              "          google.colab.kernel.accessAllowed ? 'block' : 'none';\n",
              "\n",
              "        async function convertToInteractive(key) {\n",
              "          const element = document.querySelector('#df-3ef4cd39-80c1-4ef7-a794-c3135d7ba4ee');\n",
              "          const dataTable =\n",
              "            await google.colab.kernel.invokeFunction('convertToInteractive',\n",
              "                                                     [key], {});\n",
              "          if (!dataTable) return;\n",
              "\n",
              "          const docLinkHtml = 'Like what you see? Visit the ' +\n",
              "            '<a target=\"_blank\" href=https://colab.research.google.com/notebooks/data_table.ipynb>data table notebook</a>'\n",
              "            + ' to learn more about interactive tables.';\n",
              "          element.innerHTML = '';\n",
              "          dataTable['output_type'] = 'display_data';\n",
              "          await google.colab.output.renderOutput(dataTable, element);\n",
              "          const docLink = document.createElement('div');\n",
              "          docLink.innerHTML = docLinkHtml;\n",
              "          element.appendChild(docLink);\n",
              "        }\n",
              "      </script>\n",
              "    </div>\n",
              "  </div>\n",
              "  "
            ]
          },
          "metadata": {},
          "execution_count": 63
        }
      ]
    },
    {
      "cell_type": "code",
      "source": [
        "df1 = df[['species','hour']]"
      ],
      "metadata": {
        "id": "a4DdSZxO5bMd"
      },
      "execution_count": null,
      "outputs": []
    },
    {
      "cell_type": "code",
      "source": [
        "df1"
      ],
      "metadata": {
        "colab": {
          "base_uri": "https://localhost:8080/",
          "height": 423
        },
        "id": "UErd4PHC5e_4",
        "outputId": "b12613e2-6e7a-47d8-9782-62717f4605c3"
      },
      "execution_count": null,
      "outputs": [
        {
          "output_type": "execute_result",
          "data": {
            "text/plain": [
              "                    species  hour\n",
              "0               Ae. aegypti    11\n",
              "1               Ae. aegypti    11\n",
              "2               Ae. aegypti    11\n",
              "3               Ae. aegypti    11\n",
              "4               Ae. aegypti    11\n",
              "...                     ...   ...\n",
              "279561  C. quinquefasciatus    20\n",
              "279562  C. quinquefasciatus    20\n",
              "279563  C. quinquefasciatus    20\n",
              "279564  C. quinquefasciatus    20\n",
              "279565  C. quinquefasciatus    20\n",
              "\n",
              "[279566 rows x 2 columns]"
            ],
            "text/html": [
              "\n",
              "  <div id=\"df-ac61069b-dc4c-45cc-8e28-a3e16e26a1d6\">\n",
              "    <div class=\"colab-df-container\">\n",
              "      <div>\n",
              "<style scoped>\n",
              "    .dataframe tbody tr th:only-of-type {\n",
              "        vertical-align: middle;\n",
              "    }\n",
              "\n",
              "    .dataframe tbody tr th {\n",
              "        vertical-align: top;\n",
              "    }\n",
              "\n",
              "    .dataframe thead th {\n",
              "        text-align: right;\n",
              "    }\n",
              "</style>\n",
              "<table border=\"1\" class=\"dataframe\">\n",
              "  <thead>\n",
              "    <tr style=\"text-align: right;\">\n",
              "      <th></th>\n",
              "      <th>species</th>\n",
              "      <th>hour</th>\n",
              "    </tr>\n",
              "  </thead>\n",
              "  <tbody>\n",
              "    <tr>\n",
              "      <th>0</th>\n",
              "      <td>Ae. aegypti</td>\n",
              "      <td>11</td>\n",
              "    </tr>\n",
              "    <tr>\n",
              "      <th>1</th>\n",
              "      <td>Ae. aegypti</td>\n",
              "      <td>11</td>\n",
              "    </tr>\n",
              "    <tr>\n",
              "      <th>2</th>\n",
              "      <td>Ae. aegypti</td>\n",
              "      <td>11</td>\n",
              "    </tr>\n",
              "    <tr>\n",
              "      <th>3</th>\n",
              "      <td>Ae. aegypti</td>\n",
              "      <td>11</td>\n",
              "    </tr>\n",
              "    <tr>\n",
              "      <th>4</th>\n",
              "      <td>Ae. aegypti</td>\n",
              "      <td>11</td>\n",
              "    </tr>\n",
              "    <tr>\n",
              "      <th>...</th>\n",
              "      <td>...</td>\n",
              "      <td>...</td>\n",
              "    </tr>\n",
              "    <tr>\n",
              "      <th>279561</th>\n",
              "      <td>C. quinquefasciatus</td>\n",
              "      <td>20</td>\n",
              "    </tr>\n",
              "    <tr>\n",
              "      <th>279562</th>\n",
              "      <td>C. quinquefasciatus</td>\n",
              "      <td>20</td>\n",
              "    </tr>\n",
              "    <tr>\n",
              "      <th>279563</th>\n",
              "      <td>C. quinquefasciatus</td>\n",
              "      <td>20</td>\n",
              "    </tr>\n",
              "    <tr>\n",
              "      <th>279564</th>\n",
              "      <td>C. quinquefasciatus</td>\n",
              "      <td>20</td>\n",
              "    </tr>\n",
              "    <tr>\n",
              "      <th>279565</th>\n",
              "      <td>C. quinquefasciatus</td>\n",
              "      <td>20</td>\n",
              "    </tr>\n",
              "  </tbody>\n",
              "</table>\n",
              "<p>279566 rows × 2 columns</p>\n",
              "</div>\n",
              "      <button class=\"colab-df-convert\" onclick=\"convertToInteractive('df-ac61069b-dc4c-45cc-8e28-a3e16e26a1d6')\"\n",
              "              title=\"Convert this dataframe to an interactive table.\"\n",
              "              style=\"display:none;\">\n",
              "        \n",
              "  <svg xmlns=\"http://www.w3.org/2000/svg\" height=\"24px\"viewBox=\"0 0 24 24\"\n",
              "       width=\"24px\">\n",
              "    <path d=\"M0 0h24v24H0V0z\" fill=\"none\"/>\n",
              "    <path d=\"M18.56 5.44l.94 2.06.94-2.06 2.06-.94-2.06-.94-.94-2.06-.94 2.06-2.06.94zm-11 1L8.5 8.5l.94-2.06 2.06-.94-2.06-.94L8.5 2.5l-.94 2.06-2.06.94zm10 10l.94 2.06.94-2.06 2.06-.94-2.06-.94-.94-2.06-.94 2.06-2.06.94z\"/><path d=\"M17.41 7.96l-1.37-1.37c-.4-.4-.92-.59-1.43-.59-.52 0-1.04.2-1.43.59L10.3 9.45l-7.72 7.72c-.78.78-.78 2.05 0 2.83L4 21.41c.39.39.9.59 1.41.59.51 0 1.02-.2 1.41-.59l7.78-7.78 2.81-2.81c.8-.78.8-2.07 0-2.86zM5.41 20L4 18.59l7.72-7.72 1.47 1.35L5.41 20z\"/>\n",
              "  </svg>\n",
              "      </button>\n",
              "      \n",
              "  <style>\n",
              "    .colab-df-container {\n",
              "      display:flex;\n",
              "      flex-wrap:wrap;\n",
              "      gap: 12px;\n",
              "    }\n",
              "\n",
              "    .colab-df-convert {\n",
              "      background-color: #E8F0FE;\n",
              "      border: none;\n",
              "      border-radius: 50%;\n",
              "      cursor: pointer;\n",
              "      display: none;\n",
              "      fill: #1967D2;\n",
              "      height: 32px;\n",
              "      padding: 0 0 0 0;\n",
              "      width: 32px;\n",
              "    }\n",
              "\n",
              "    .colab-df-convert:hover {\n",
              "      background-color: #E2EBFA;\n",
              "      box-shadow: 0px 1px 2px rgba(60, 64, 67, 0.3), 0px 1px 3px 1px rgba(60, 64, 67, 0.15);\n",
              "      fill: #174EA6;\n",
              "    }\n",
              "\n",
              "    [theme=dark] .colab-df-convert {\n",
              "      background-color: #3B4455;\n",
              "      fill: #D2E3FC;\n",
              "    }\n",
              "\n",
              "    [theme=dark] .colab-df-convert:hover {\n",
              "      background-color: #434B5C;\n",
              "      box-shadow: 0px 1px 3px 1px rgba(0, 0, 0, 0.15);\n",
              "      filter: drop-shadow(0px 1px 2px rgba(0, 0, 0, 0.3));\n",
              "      fill: #FFFFFF;\n",
              "    }\n",
              "  </style>\n",
              "\n",
              "      <script>\n",
              "        const buttonEl =\n",
              "          document.querySelector('#df-ac61069b-dc4c-45cc-8e28-a3e16e26a1d6 button.colab-df-convert');\n",
              "        buttonEl.style.display =\n",
              "          google.colab.kernel.accessAllowed ? 'block' : 'none';\n",
              "\n",
              "        async function convertToInteractive(key) {\n",
              "          const element = document.querySelector('#df-ac61069b-dc4c-45cc-8e28-a3e16e26a1d6');\n",
              "          const dataTable =\n",
              "            await google.colab.kernel.invokeFunction('convertToInteractive',\n",
              "                                                     [key], {});\n",
              "          if (!dataTable) return;\n",
              "\n",
              "          const docLinkHtml = 'Like what you see? Visit the ' +\n",
              "            '<a target=\"_blank\" href=https://colab.research.google.com/notebooks/data_table.ipynb>data table notebook</a>'\n",
              "            + ' to learn more about interactive tables.';\n",
              "          element.innerHTML = '';\n",
              "          dataTable['output_type'] = 'display_data';\n",
              "          await google.colab.output.renderOutput(dataTable, element);\n",
              "          const docLink = document.createElement('div');\n",
              "          docLink.innerHTML = docLinkHtml;\n",
              "          element.appendChild(docLink);\n",
              "        }\n",
              "      </script>\n",
              "    </div>\n",
              "  </div>\n",
              "  "
            ]
          },
          "metadata": {},
          "execution_count": 65
        }
      ]
    },
    {
      "cell_type": "code",
      "source": [
        "df1.groupby('species').plot.kde()"
      ],
      "metadata": {
        "colab": {
          "base_uri": "https://localhost:8080/",
          "height": 1000
        },
        "id": "oIjYrHb75iR5",
        "outputId": "32384faa-4ed1-4334-d675-e2dc387fe5f6"
      },
      "execution_count": null,
      "outputs": [
        {
          "output_type": "execute_result",
          "data": {
            "text/plain": [
              "species\n",
              "Ae. aegypti            AxesSubplot(0.125,0.125;0.775x0.755)\n",
              "Ae. albopictus         AxesSubplot(0.125,0.125;0.775x0.755)\n",
              "An. arabiensis         AxesSubplot(0.125,0.125;0.775x0.755)\n",
              "An. gambiae            AxesSubplot(0.125,0.125;0.775x0.755)\n",
              "C. pipiens             AxesSubplot(0.125,0.125;0.775x0.755)\n",
              "C. quinquefasciatus    AxesSubplot(0.125,0.125;0.775x0.755)\n",
              "dtype: object"
            ]
          },
          "metadata": {},
          "execution_count": 67
        },
        {
          "output_type": "display_data",
          "data": {
            "text/plain": [
              "<Figure size 432x288 with 1 Axes>"
            ],
            "image/png": "[encoded data removed]"
          },
          "metadata": {
            "needs_background": "light"
          }
        },
        {
          "output_type": "display_data",
          "data": {
            "text/plain": [
              "<Figure size 432x288 with 1 Axes>"
            ],
            "image/png": "[encoded data removed]"
          },
          "metadata": {
            "needs_background": "light"
          }
        },
        {
          "output_type": "display_data",
          "data": {
            "text/plain": [
              "<Figure size 432x288 with 1 Axes>"
            ],
            "image/png": "[encoded data removed]"
          },
          "metadata": {
            "needs_background": "light"
          }
        },
        {
          "output_type": "display_data",
          "data": {
            "text/plain": [
              "<Figure size 432x288 with 1 Axes>"
            ],
            "image/png": "[encoded data removed]"
          },
          "metadata": {
            "needs_background": "light"
          }
        },
        {
          "output_type": "display_data",
          "data": {
            "text/plain": [
              "<Figure size 432x288 with 1 Axes>"
            ],
            "image/png": "[encoded data removed]"
          },
          "metadata": {
            "needs_background": "light"
          }
        },
        {
          "output_type": "display_data",
          "data": {
            "text/plain": [
              "<Figure size 432x288 with 1 Axes>"
            ],
            "image/png": "[encoded data removed]"
          },
          "metadata": {
            "needs_background": "light"
          }
        }
      ]
    },
    {
      "cell_type": "code",
      "source": [
        "df1 = df[['species','hour']]\n",
        "df1.groupby('species').plot.kde(xlim=(0,23))\n",
        "plt.show()\n",
        "df1.groupby('species').describe()"
      ],
      "metadata": {
        "id": "kDfGinxw_zzR"
      },
      "execution_count": null,
      "outputs": []
    },
    {
      "cell_type": "code",
      "source": [
        "plt.figure(figsize=(20,10))\n",
        "g = sns.boxplot(x=\"species\", y=\"hour\",data=df1)\n",
        "g.set_xticklabels(g.get_xticklabels(),rotation=20)\n",
        "plt.title('Species activity vs. Hour: 0-23')\n",
        "plt.show() "
      ],
      "metadata": {
        "colab": {
          "base_uri": "https://localhost:8080/",
          "height": 627
        },
        "id": "2FpP-8Q1AJuy",
        "outputId": "f2850fab-fa2e-4185-9e5f-5aaeac42dff9"
      },
      "execution_count": null,
      "outputs": [
        {
          "output_type": "display_data",
          "data": {
            "text/plain": [
              "<Figure size 1440x720 with 1 Axes>"
            ],
            "image/png": "[encoded data removed]"
          },
          "metadata": {
            "needs_background": "light"
          }
        }
      ]
    },
    {
      "cell_type": "code",
      "source": [
        "plt.figure(figsize=(20,10))\n",
        "g = sns.violinplot(x=\"species\", y=\"hour\", data=df1, hue = 'species');\n",
        "plt.legend(loc = 'lower center')\n",
        "plt.title('Species activity vs. Hour: 0-23')\n",
        "plt.show()"
      ],
      "metadata": {
        "colab": {
          "base_uri": "https://localhost:8080/",
          "height": 595
        },
        "id": "T5lUq5Z7AWmp",
        "outputId": "006375fa-764a-4f51-a1b9-adb1c7e180b4"
      },
      "execution_count": null,
      "outputs": [
        {
          "output_type": "display_data",
          "data": {
            "text/plain": [
              "<Figure size 1440x720 with 1 Axes>"
            ],
            "image/png": "[encoded data removed]"
          },
          "metadata": {
            "needs_background": "light"
          }
        }
      ]
    }
  ],
  "metadata": {
    "colab": {
      "provenance": []
    },
    "kernelspec": {
      "display_name": "Python 3",
      "name": "python3"
    },
    "language_info": {
      "name": "python"
    }
  },
  "nbformat": 4,
  "nbformat_minor": 0
}